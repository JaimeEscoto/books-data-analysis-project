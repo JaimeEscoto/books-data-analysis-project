{
 "cells": [
  {
   "cell_type": "markdown",
   "id": "fe68b61f",
   "metadata": {},
   "source": [
    "# Create data base"
   ]
  },
  {
   "cell_type": "code",
   "execution_count": 24,
   "id": "b0312822",
   "metadata": {},
   "outputs": [],
   "source": [
    "# Import the sqlite3 module for SQLite database interaction\n",
    "import sqlite3\n",
    "\n",
    "# Connect to the SQLite database (if the file doesn't exist, SQLite will create it)\n",
    "con = sqlite3.connect(\"BooksDataBase.db\")"
   ]
  },
  {
   "cell_type": "markdown",
   "id": "eadd5ff4",
   "metadata": {},
   "source": [
    "# Create tables"
   ]
  },
  {
   "cell_type": "code",
   "execution_count": 25,
   "id": "52516eb6",
   "metadata": {},
   "outputs": [],
   "source": [
    "# Create a cursor object to interact with the SQLite database\n",
    "cur = con.cursor()\n",
    "\n",
    "# Create Books Table\n",
    "cur.execute('''\n",
    "CREATE TABLE books (\n",
    "    ISBN VARCHAR(13) PRIMARY KEY,\n",
    "    \"Book-Title\" VARCHAR(255) NOT NULL,\n",
    "    \"Book-Author\" VARCHAR(100) NOT NULL,\n",
    "    \"Year-Of-Publication\" INTEGER,\n",
    "    \"Publisher\" VARCHAR(100),\n",
    "    \"Image-URL-S\" VARCHAR(255),\n",
    "    \"Image-URL-M\" VARCHAR(255),\n",
    "    \"Image-URL-L\" VARCHAR(255)\n",
    ");\n",
    "''')\n",
    "\n",
    "# Create Ratings Table\n",
    "cur.execute('''\n",
    "CREATE TABLE ratings (\n",
    "    \"User-ID\" INTEGER,\n",
    "    ISBN VARCHAR(13),\n",
    "    \"Book-Rating\" INTEGER,\n",
    "    PRIMARY KEY (\"User-ID\", ISBN),\n",
    "    FOREIGN KEY (ISBN) REFERENCES books(ISBN)\n",
    ");\n",
    "''')\n",
    "\n",
    "# Create Users Table\n",
    "cur.execute('''\n",
    "CREATE TABLE users (\n",
    "    \"User-ID\" INTEGER PRIMARY KEY,\n",
    "    \"Location\" VARCHAR(255),\n",
    "    \"Age\" INTEGER\n",
    ");\n",
    "''')\n",
    "\n",
    "# Be sure to close the connection\n",
    "con.close()"
   ]
  },
  {
   "cell_type": "markdown",
   "id": "760dd4e0",
   "metadata": {},
   "source": [
    "# Load data from spreadsheet to data base"
   ]
  },
  {
   "cell_type": "code",
   "execution_count": 22,
   "id": "e40f0bd3",
   "metadata": {},
   "outputs": [
    {
     "name": "stdout",
     "output_type": "stream",
     "text": [
      "Data loaded into the books table of the BooksDataBase.db database successfully.\n",
      "Data loaded into the users table of the BooksDataBase.db database successfully.\n",
      "Data loaded into the ratings table of the BooksDataBase.db database successfully.\n"
     ]
    }
   ],
   "source": [
    "import pandas as pd\n",
    "import sqlite3\n",
    "\n",
    "# Connect to the SQLite database (if the file does not exist, SQLite will create it)\n",
    "database_file = 'BooksDataBase.db'\n",
    "conn = sqlite3.connect(database_file)\n",
    "\n",
    "# List of tables to be processed\n",
    "tables = ['books', 'users', 'ratings']\n",
    "\n",
    "# Iterate over each table\n",
    "for table in tables:\n",
    "    \n",
    "    # Path to the CSV file\n",
    "    csv_file_path = 'raw_data/' + table + '.csv'\n",
    "\n",
    "    # Read data from the CSV file\n",
    "    # Note: ISO-8859-1 encoding is used, and lines with errors are skipped\n",
    "    df = pd.read_csv(csv_file_path, encoding='ISO-8859-1', on_bad_lines='skip', sep=';', low_memory=False)\n",
    "\n",
    "    # Name of the table in the database\n",
    "    table_name = table\n",
    "\n",
    "    # Load data into the database\n",
    "    df.to_sql(table_name, conn, if_exists='replace', index=False)\n",
    "    \n",
    "    # Print a success message\n",
    "    print(f'Data loaded into the {table_name} table of the {database_file} database successfully.')\n",
    "\n",
    "# Close the connection\n",
    "conn.close()\n"
   ]
  },
  {
   "cell_type": "markdown",
   "id": "7a37cf4e",
   "metadata": {},
   "source": [
    " # Queries"
   ]
  },
  {
   "cell_type": "markdown",
   "id": "4a612a27",
   "metadata": {},
   "source": [
    "### 1. Top 10 Locations with the Highest Number of Reviews"
   ]
  },
  {
   "cell_type": "code",
   "execution_count": 38,
   "id": "8ba79f4c",
   "metadata": {},
   "outputs": [
    {
     "name": "stdout",
     "output_type": "stream",
     "text": [
      "Top 10 Locations with the Highest Number of Reviews:\n",
      "('toronto, ontario, canada', 16431)\n",
      "('n/a, n/a, n/a', 13623)\n",
      "('ottawa, ontario, canada', 9075)\n",
      "('chicago, illinois, usa', 8722)\n",
      "('seattle, washington, usa', 8541)\n",
      "('olympia, washington, usa', 8033)\n",
      "('london, england, united kingdom', 7979)\n",
      "('omaha, nebraska, usa', 7856)\n",
      "('little canada, minnesota, usa', 7552)\n",
      "('st. louis, missouri, usa', 7366)\n",
      "                          Location  Reviews-Qty\n",
      "0         toronto, ontario, canada        16431\n",
      "1                    n/a, n/a, n/a        13623\n",
      "2          ottawa, ontario, canada         9075\n",
      "3           chicago, illinois, usa         8722\n",
      "4         seattle, washington, usa         8541\n",
      "5         olympia, washington, usa         8033\n",
      "6  london, england, united kingdom         7979\n",
      "7             omaha, nebraska, usa         7856\n",
      "8    little canada, minnesota, usa         7552\n",
      "9         st. louis, missouri, usa         7366\n"
     ]
    }
   ],
   "source": [
    "import pandas as pd\n",
    "import sqlite3\n",
    "\n",
    "# Using 2 methods to retrieve records from the database: 1. cursor, 2. dataframe\n",
    "\n",
    "# Create a SQL connection to our SQLite database\n",
    "database_file = 'BooksDataBase.db'\n",
    "conn = sqlite3.connect(database_file)\n",
    "\n",
    "# Create a cursor to execute SQL queries\n",
    "cur = conn.cursor()\n",
    "\n",
    "# SQL query to retrieve the top 10 locations with the highest number of reviews\n",
    "querystring = '''\n",
    "    SELECT u.\"Location\", COUNT(r.\"User-ID\") as \"Reviews-Qty\"\n",
    "    FROM users u \n",
    "    INNER JOIN ratings r \n",
    "    ON u.\"User-ID\" = r.\"User-ID\"\n",
    "    GROUP BY u.\"Location\" \n",
    "    ORDER BY \"Reviews-Qty\" DESC\n",
    "    LIMIT 10\n",
    "'''\n",
    "\n",
    "# The result of a \"cursor.execute\" can be iterated over by row\n",
    "print(\"Top 10 Locations with the Highest Number of Reviews:\")\n",
    "for row in cur.execute(querystring):\n",
    "    print(row)\n",
    "\n",
    "# Execute the query using a Pandas DataFrame\n",
    "df = pd.read_sql_query(querystring, conn)\n",
    "\n",
    "# Display the result as a DataFrame\n",
    "print(df)\n",
    "\n",
    "# Be sure to close the connection\n",
    "conn.close()\n"
   ]
  },
  {
   "cell_type": "markdown",
   "id": "f730720d",
   "metadata": {},
   "source": [
    "### 2. Top 10 Books by Reviews-Qty and Avg-Rating"
   ]
  },
  {
   "cell_type": "code",
   "execution_count": 39,
   "id": "db935145",
   "metadata": {},
   "outputs": [
    {
     "name": "stdout",
     "output_type": "stream",
     "text": [
      "Top 10 Books by Reviews-Qty and Avg-Rating:\n",
      "                                        Book-Title  Reviews-Qty  Rating-Avg\n",
      "0                                      Wild Animus         2502    1.019584\n",
      "1                        The Lovely Bones: A Novel         1295    4.468726\n",
      "2                                The Da Vinci Code          898    4.642539\n",
      "3                                  A Painted House          838    3.231504\n",
      "4                       The Nanny Diaries: A Novel          828    3.530193\n",
      "5                            Bridget Jones's Diary          815    3.527607\n",
      "6                          The Secret Life of Bees          774    4.447028\n",
      "7  Divine Secrets of the Ya-Ya Sisterhood: A Novel          740    3.437838\n",
      "8              The Red Tent (Bestselling Backlist)          723    4.334716\n",
      "9                              Angels &amp; Demons          670    3.708955\n"
     ]
    }
   ],
   "source": [
    "import pandas as pd\n",
    "import sqlite3\n",
    "\n",
    "# Create a SQL connection to our SQLite database\n",
    "database_file = 'BooksDataBase.db'\n",
    "conn = sqlite3.connect(database_file)\n",
    "\n",
    "# SQL query to retrieve book titles, the number of reviews, and average rating for the top 10 reviewed books\n",
    "querystring = '''\n",
    "    SELECT  b.\"Book-Title\", COUNT(r.\"User-ID\") as \"Reviews-Qty\" , \n",
    "    AVG(r.\"Book-Rating\") as \"Rating-Avg\" \n",
    "    FROM books b\n",
    "    INNER JOIN ratings r \n",
    "    ON b.\"ISBN\"=r.\"ISBN\"\n",
    "    GROUP BY b.\"Book-Title\" \n",
    "    ORDER BY \"Reviews-Qty\" DESC\n",
    "    LIMIT 10\n",
    "'''\n",
    "\n",
    "# Title for the printed DataFrame\n",
    "print(\"Top 10 Books by Reviews-Qty and Avg-Rating:\")\n",
    "\n",
    "# Execute the query using a Pandas DataFrame\n",
    "df = pd.read_sql_query(querystring, conn)\n",
    "\n",
    "# Print the DataFrame\n",
    "print(df)\n",
    "\n",
    "# Be sure to close the connection\n",
    "conn.close()\n",
    "\n"
   ]
  },
  {
   "cell_type": "markdown",
   "id": "177aa535",
   "metadata": {},
   "source": [
    "Se encontro que el libro que mas reviews tiene no es el que mejor rating tiene. Se harán un nuevo query para ver cuales son los libros con mejor rating pero con cantidad de reviews mayor a 300."
   ]
  },
  {
   "cell_type": "markdown",
   "id": "4fcc9bcd",
   "metadata": {},
   "source": [
    "### 3. Top 10 best books with more than 300 reviews"
   ]
  },
  {
   "cell_type": "code",
   "execution_count": 40,
   "id": "156ac193",
   "metadata": {},
   "outputs": [
    {
     "name": "stdout",
     "output_type": "stream",
     "text": [
      "Top 10 Books with High Ratings and More than 300 Reviews:\n",
      "                                          Book-Title  Rating-Avg  Reviews-Qty\n",
      "0  Harry Potter and the Prisoner of Azkaban (Book 3)    5.852804          428\n",
      "1       Harry Potter and the Goblet of Fire (Book 4)    5.824289          387\n",
      "2  Harry Potter and the Order of the Phoenix (Boo...    5.501441          347\n",
      "3   Harry Potter and the Chamber of Secrets (Book 2)    5.183453          556\n",
      "4  The Fellowship of the Ring (The Lord of the Ri...    4.948370          368\n",
      "5  Harry Potter and the Sorcerer's Stone (Harry P...    4.895652          575\n",
      "6                              To Kill a Mockingbird    4.700000          510\n",
      "7                                  The Da Vinci Code    4.642539          898\n",
      "8                 The Five People You Meet in Heaven    4.551163          430\n",
      "9                             The Catcher in the Rye    4.545657          449\n"
     ]
    }
   ],
   "source": [
    "import pandas as pd\n",
    "import sqlite3\n",
    "\n",
    "# Create a SQL connection to our SQLite database\n",
    "database_file = 'BooksDataBase.db'\n",
    "conn = sqlite3.connect(database_file)\n",
    "\n",
    "# SQL query to retrieve book titles, average rating, and number of reviews for books with more than 300 reviews\n",
    "querystring = '''\n",
    "    SELECT  b.\"Book-Title\", \n",
    "    AVG(r.\"Book-Rating\") as \"Rating-Avg\", COUNT(r.\"User-ID\") as \"Reviews-Qty\" \n",
    "    FROM books b\n",
    "    INNER JOIN ratings r \n",
    "    ON b.\"ISBN\"=r.\"ISBN\"\n",
    "    GROUP BY b.\"Book-Title\" \n",
    "    HAVING \"Reviews-Qty\" > 300\n",
    "    ORDER BY \"Rating-Avg\" DESC\n",
    "    LIMIT 10\n",
    "'''\n",
    "\n",
    "# Title for the printed DataFrame\n",
    "print(\"Top 10 Books with High Ratings and More than 300 Reviews:\")\n",
    "\n",
    "# Execute the query using a Pandas DataFrame\n",
    "df = pd.read_sql_query(querystring, conn)\n",
    "\n",
    "# Print the DataFrame\n",
    "print(df)\n",
    "\n",
    "# Be sure to close the connection\n",
    "conn.close()"
   ]
  },
  {
   "cell_type": "markdown",
   "id": "57498214",
   "metadata": {},
   "source": [
    "### 4. Review and ISBN Statistics"
   ]
  },
  {
   "cell_type": "code",
   "execution_count": 45,
   "id": "32e4d6b8",
   "metadata": {},
   "outputs": [
    {
     "name": "stdout",
     "output_type": "stream",
     "text": [
      "Review and ISBN Statistics:\n",
      "   Reviews-Qty  ISBN-Qty  Reviews-to-ISBN-Ratio\n",
      "0      1149780    340556               3.376185\n"
     ]
    }
   ],
   "source": [
    "import pandas as pd\n",
    "import sqlite3\n",
    "\n",
    "# Create a SQL connection to our SQLite database\n",
    "database_file = 'BooksDataBase.db'\n",
    "conn = sqlite3.connect(database_file)\n",
    "\n",
    "# SQL query to retrieve book titles, average rating, and number of reviews for books with more than 300 reviews\n",
    "querystring = '''\n",
    "-- Count the total number of reviews\n",
    "--SELECT COUNT(r.\"User-ID\") as \"Reviews-Qty\" \n",
    "--FROM ratings r;\n",
    "\n",
    "-- Count the total number of distinct ISBNs\n",
    "--SELECT COUNT(DISTINCT r.\"ISBN\") as \"ISBN-Qty\" \n",
    "--FROM ratings r;\n",
    "\n",
    "-- Calculate the ratio of Reviews to ISBNs\n",
    "SELECT \"Reviews-Qty\", \"ISBN-Qty\", \"Reviews-Qty\" * 1.0 / \"ISBN-Qty\" as \"Reviews-to-ISBN-Ratio\"\n",
    "FROM\n",
    "    -- Subquery to get the total number of reviews\n",
    "    (SELECT COUNT(r.\"User-ID\") AS \"Reviews-Qty\" FROM ratings r),\n",
    "    -- Subquery to get the total number of distinct ISBNs\n",
    "    (SELECT COUNT(DISTINCT r.\"ISBN\") as \"ISBN-Qty\" FROM ratings r);\n",
    "'''\n",
    "\n",
    "# Title for the printed DataFrame\n",
    "print(\"Review and ISBN Statistics:\")\n",
    "\n",
    "# Execute the query using a Pandas DataFrame\n",
    "df = pd.read_sql_query(querystring, conn)\n",
    "\n",
    "# Print the DataFrame\n",
    "print(df)\n",
    "\n",
    "# Be sure to close the connection\n",
    "conn.close()\n",
    "\n"
   ]
  },
  {
   "cell_type": "markdown",
   "id": "a2256bdb",
   "metadata": {},
   "source": [
    "## Covert data to json\n"
   ]
  },
  {
   "cell_type": "code",
   "execution_count": 5,
   "id": "1266059e",
   "metadata": {},
   "outputs": [
    {
     "name": "stdout",
     "output_type": "stream",
     "text": [
      "Query results saved to query_results.json\n"
     ]
    }
   ],
   "source": [
    "import pandas as pd\n",
    "import sqlite3\n",
    "\n",
    "# Create a SQL connection to our SQLite database\n",
    "database_file = 'BooksDataBase.db'\n",
    "conn = sqlite3.connect(database_file)\n",
    "\n",
    "# SQL query to retrieve book titles, average rating, and number of reviews for books with more than 300 reviews\n",
    "querystring = '''\n",
    "SELECT * \n",
    "FROM books b INNER JOIN ratings r \n",
    "ON b.ISBN = r.ISBN \n",
    "INNER JOIN users u \n",
    "ON u.\"User-ID\" = r.\"User-ID\" \n",
    "'''\n",
    "\n",
    "# Execute the query and load the results into a DataFrame\n",
    "df = pd.read_sql_query(querystring, conn)\n",
    "\n",
    "# Close the connection to the database\n",
    "conn.close()\n",
    "\n",
    "# Remove duplicate columns if any\n",
    "df = df.loc[:, ~df.columns.duplicated()]\n",
    "\n",
    "# Convert the DataFrame to JSON format and save it to a file\n",
    "json_file_path = 'query_results.json'\n",
    "df.to_json(json_file_path, orient='records', lines=True)\n",
    "\n",
    "print(f\"Query results saved to {json_file_path}\")"
   ]
  },
  {
   "cell_type": "code",
   "execution_count": null,
   "id": "5bda7dad",
   "metadata": {},
   "outputs": [],
   "source": []
  }
 ],
 "metadata": {
  "kernelspec": {
   "display_name": "Python 3 (ipykernel)",
   "language": "python",
   "name": "python3"
  },
  "language_info": {
   "codemirror_mode": {
    "name": "ipython",
    "version": 3
   },
   "file_extension": ".py",
   "mimetype": "text/x-python",
   "name": "python",
   "nbconvert_exporter": "python",
   "pygments_lexer": "ipython3",
   "version": "3.11.5"
  }
 },
 "nbformat": 4,
 "nbformat_minor": 5
}
